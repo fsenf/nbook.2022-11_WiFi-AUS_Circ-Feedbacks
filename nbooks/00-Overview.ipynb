{
 "cells": [
  {
   "cell_type": "markdown",
   "metadata": {},
   "source": [
    "# Overview of Jupyter Notebooks Applied to Generate Paper Plots "
   ]
  },
  {
   "cell_type": "markdown",
   "metadata": {},
   "source": [
    "Here, we list all jupyter notebooks that have been run to plot all figures of the paper: \n",
    "\n",
    "Senf, F., B. Heinold, A. Kubin, J. Müller, R. Schrödner, and I. Tegen, __How the extreme 2019-2020 Australian wildfire impacted on global circulation and adjustments__. prepared for Atmos. Chem .Phys.,.\n",
    "\n",
    "Preprint is available under ???"
   ]
  },
  {
   "cell_type": "markdown",
   "metadata": {},
   "source": [
    "## Project Structure"
   ]
  },
  {
   "cell_type": "markdown",
   "metadata": {},
   "source": [
    "* The *images* are locally hosted under"
   ]
  },
  {
   "cell_type": "code",
   "execution_count": 1,
   "metadata": {},
   "outputs": [
    {
     "name": "stdout",
     "output_type": "stream",
     "text": [
      "Fig01.jpg\n",
      "Fig02.jpg\n",
      "Fig03.jpg\n",
      "Fig04.jpg\n",
      "Fig05.jpg\n",
      "Fig06.jpg\n",
      "Fig07.jpg\n",
      "Fig08.jpg\n",
      "Fig09.jpg\n",
      "Fig10.jpg\n",
      "Fig11.jpg\n"
     ]
    }
   ],
   "source": [
    "%%bash\n",
    "\n",
    "ls ../paper-pics/"
   ]
  },
  {
   "cell_type": "markdown",
   "metadata": {},
   "source": [
    "* and all *jupyter notebooks* are stored here "
   ]
  },
  {
   "cell_type": "code",
   "execution_count": 20,
   "metadata": {},
   "outputs": [
    {
     "name": "stdout",
     "output_type": "stream",
     "text": [
      "00-Overview.ipynb\n",
      "01-Burden-and_Forcing-Maps-for-Paper.ipynb\n",
      "02-Average-Forcing-by-Latitude.ipynb\n",
      "03-ERF-and-Role-of-Clouds.ipynb\n",
      "04-Stratospheric-Heating.ipynb\n",
      "05-Plot-Temporal-Evolution-of-Tpot.ipynb\n",
      "06-Plot-HydroVars.ipynb\n",
      "07-Circulation-and-Adiabatic-Heating-Plots.ipynb\n",
      "08-Plotting-Vertical-Profiles.ipynb\n",
      "09-Residual-Circulation-at-100hPa.ipynb\n"
     ]
    }
   ],
   "source": [
    "%%bash\n",
    "\n",
    "ls ."
   ]
  },
  {
   "cell_type": "markdown",
   "metadata": {},
   "source": [
    "* Finally, these *model data* need to be available (Download them via [zenodo.org](zenodo.org)):\n",
    "\n",
    "    - `circulation-vars-by-latitude-and-pressure.nc`\n",
    "    - `wifiaus-combined-vars-latrange.nc`\n",
    "    - `all-echam-by-latitude.nc`\n",
    "    - `burden-and-forcings-for.maps.nc`\n",
    "    - `hydrovars-by-latitude.nc`\n",
    "    - `radfluxes-by-latitude.nc`\n",
    "    - `temperature-perturbations-by-latitude.nc`\n",
    "    - `stratospheric-heating-rates-by-time.nc`\n",
    "\n",
    "    \n",
    "    \n",
    "    "
   ]
  },
  {
   "cell_type": "markdown",
   "metadata": {},
   "source": [
    "## Fig 1\n",
    "\n",
    "Figure 1: Convergence of monthly average radiative flux perturbations (difference between FIRE1 and FIRE0)  between TOA and 200~hPa, abbreviated as middle atmosphere (MA) forcing. The upper two rows from (a) to (f) present shortwave MA forcing, the lower two rows from (g) to (l) are longwave MA forcing. Time is increasing from left to right as indicated in the sub-panel titles, from January to March 2020. Average results from nudged (1st and 3rd row) and ensemble (2nd and 4th row) simulations are compared. Hatching represents areas in which the ensemble mean perturbations are different from zero at 95$\\%$ confidence level. "
   ]
  },
  {
   "cell_type": "markdown",
   "metadata": {},
   "source": [
    "![Fig01.jpg](../paper-pics/Fig01.jpg)\n",
    "\n",
    "\n",
    "\n",
    "Single subfigures are prepared with [01-Burden-and_Forcing-Maps-for-Paper.ipynb](01-Burden-and_Forcing-Maps-for-Paper.ipynb). \n",
    "\n",
    "All subpanels are combined with\n",
    "\n",
    "```bash\n",
    "convert -append sw-ma-forcing-maps.png lw-ma-forcing-maps.png  ma-forcing-maps.png\n",
    "```\n"
   ]
  },
  {
   "cell_type": "markdown",
   "metadata": {},
   "source": [
    "\n",
    "\n",
    "***"
   ]
  },
  {
   "cell_type": "markdown",
   "metadata": {},
   "source": [
    "## Fig 2\n",
    "\n",
    "Figure 2: Ensemble and time mean perturbations of radiative fluxes at TOA (1st row) and surface (4th row) and respective flux convergences between TOA and 200 hPa (2nd row), indicated as middle atmosphere (MATM) forcing, and between 200 hPa and surface (3rd row), indicated as lower atmosphere (LATM) forcing, as function of latitude. The colors represent perturbations from the reference simulation (FIRE0) with different fire emission strength scaled by 1 (FIRE1: blue), 2 (FIRE2: green), 3 (FIRE3: orange) and 5 (FIRE5: red). The sum of shortwave (left column) and longwave (middle column) gives the net contribution (right column). Thick lines represent the ensemble mean value, whereas light shadings show the 95\\% confidence interval."
   ]
  },
  {
   "cell_type": "markdown",
   "metadata": {},
   "source": [
    "![Fig02.jpg](../paper-pics/Fig02.jpg)\n",
    "\n",
    "The figure is prepared with [02-Average-Forcing-by-Latitude.ipynb](02-Average-Forcing-by-Latitude.ipynb). "
   ]
  },
  {
   "cell_type": "markdown",
   "metadata": {},
   "source": [
    "## Fig 3\n",
    "\n",
    "Figure 3: (a) Allsky forcings and (b) cloud effects averaged over specified geographical regions (outer interval on x-axis), over all months (inner interval on x-axis) and over all fire strength perturbations. The different components of the effective radiative forcing (ERF) are presented by differently color bars. ERF is split into instantaneous radiative forcing (IRF) and adjustments (Adj) and also decomposed into shortwave and longwave components. Each bar represents the average of ensemble mean values for four normalized fire perturbation experiments. Values for which the standard deviation among the four perturbation experiments is larger than the actual mean value are indicated by light colors. Data from the nudged experiments are shown as small gray horizontal lines for comparison and are also calculated as average over all normalized fire perturbations. Regions are split by $\\varphi = 20^\\circ$S and $\\varphi = 20^\\circ$N where $\\varphi$ represents latitude."
   ]
  },
  {
   "cell_type": "markdown",
   "metadata": {},
   "source": [
    "![Fig03.jpg](../paper-pics/Fig03.jpg)\n",
    "\n",
    "The figure is prepared with [03-ERF-and-Role-of-Clouds.ipynb](03-ERF-and-Role-of-Clouds.ipynb).\n",
    "\n"
   ]
  },
  {
   "cell_type": "markdown",
   "metadata": {},
   "source": [
    "***"
   ]
  },
  {
   "cell_type": "markdown",
   "metadata": {},
   "source": [
    "## Fig 4\n",
    "\n",
    "Figure 4: Net heating rate perturbation averaged globally for stratospheric altitudes between $380 < \\theta < 500$ K as function of time. Colors indicate the different fire strength perturbations similar to Fig.~2. Thick solid lines are ensemble mean values and thin solid line represent averaged nudged data. The light gray horizontal line marks the zero line for orientation."
   ]
  },
  {
   "cell_type": "markdown",
   "metadata": {},
   "source": [
    "![Fig04.jpg](../paper-pics/Fig04.jpg)\n",
    "\n",
    "The figure is prepared with [04-Stratospheric-Heating.ipynb](04-Stratospheric-Heating.ipynb)."
   ]
  },
  {
   "cell_type": "markdown",
   "metadata": {},
   "source": [
    "***"
   ]
  },
  {
   "cell_type": "markdown",
   "metadata": {},
   "source": [
    "## Fig 5\n",
    "\n",
    "Figure 5: Temporal evolution of the potential temperature perturbation for the FIRE1 case. Shown is 1-K contour of the ensemble average potential temperature perturbation that is color-coded by time (see legend). Each second day is presented beginning with 1 Jan  2020. Please note that the pressure already starts at 300 hPa at the vertical axis."
   ]
  },
  {
   "cell_type": "markdown",
   "metadata": {},
   "source": [
    "![Fig05.jpg](../paper-pics/Fig05.jpg)\n",
    "\n",
    "Figure is prepared with [05-Plot-Temporal-Evolution-of-Tpot.ipynb](05-Plot-Temporal-Evolution-of-Tpot.ipynb).\n"
   ]
  },
  {
   "cell_type": "markdown",
   "metadata": {},
   "source": [
    "***"
   ]
  },
  {
   "cell_type": "markdown",
   "metadata": {},
   "source": [
    "## Fig 6\n",
    "\n",
    "Figure 6: Average perturbations in residual circulation for (a) nudged simulations and (b) ensemble simulation as function of latitude and height. Contour lines indicate the state of the reference simulation FIRE0 with solid lines for positive values and dashed lines for negative values. Perturbations of the residual circulation in FIRE1 are presented in colored shading. Both, contours and shading have logarithmic spacing. Hatches mean the same as in Fig. 1."
   ]
  },
  {
   "cell_type": "markdown",
   "metadata": {},
   "source": [
    "![Fig06.jpg](../paper-pics/Fig06.jpg)\n",
    "\n",
    "Figure is prepared with [07-Circulation-and-Adiabatic-Heating-Plots.ipynb](07-Circulation-and-Adiabatic-Heating-Plots.ipynb).\n"
   ]
  },
  {
   "cell_type": "markdown",
   "metadata": {},
   "source": [
    "***"
   ]
  },
  {
   "cell_type": "markdown",
   "metadata": {},
   "source": [
    "## Fig 7\n",
    "\n",
    "Figure 7: Similar to Fig. 6, but for the average perturbations in adiabatic heating due to circulation changes."
   ]
  },
  {
   "cell_type": "markdown",
   "metadata": {},
   "source": [
    "![Fig07.jpg](../paper-pics/Fig07.jpg)\n",
    "\n",
    "Figure is prepared with [07-Circulation-and-Adiabatic-Heating-Plots.ipynb](07-Circulation-and-Adiabatic-Heating-Plots.ipynb).\n"
   ]
  },
  {
   "cell_type": "markdown",
   "metadata": {},
   "source": [
    "***"
   ]
  },
  {
   "cell_type": "markdown",
   "metadata": {},
   "source": [
    "## Fig 8\n",
    "\n",
    "Figure 8: Relationship between components of the residual circulation and the forcing by large-scale waves (1st row) or the radiative heating (2nd row). Symbols mark monthly and regionally averaged anomalies with colors indicating fire strength from FIRE1 (blue) to FIRE5 (red) and symbol style for different months: January (circle), February (square) and March (triangle). Gray error bars indicate the 95\\% confidence interval.  Regions are split by $\\varphi = 20^\\circ$S and $\\varphi = 20^\\circ$N where $\\varphi$ represents latitude."
   ]
  },
  {
   "cell_type": "markdown",
   "metadata": {},
   "source": [
    "![Fig08.jpg](../paper-pics/Fig08.jpg)\n",
    "\n",
    "Figure is prepared with [09-Residual-Circulation-at-100hPa.ipynb](09-Residual-Circulation-at-100hPa.ipynb).\n"
   ]
  },
  {
   "cell_type": "markdown",
   "metadata": {},
   "source": [
    "***"
   ]
  },
  {
   "cell_type": "markdown",
   "metadata": {},
   "source": [
    "## Fig 9\n",
    "\n",
    "Figure 9: Globally-averaged vertical profiles of (a) net radiative heating, (b) potential temperature, (c) relative humidity and (d) cloud cover as function of pressure. Similar to Fig. 4, thick colored lines represent ensemble mean perturbations with respect to the FIRE0 case. Temporal evolution from January 2020 (leftmost sub-panels) to March 2020 (rightmost sub-panels) is plotted. Humidity is shown relative to saturation over liquid water. Please note that the x-scale is non-linear to improve visibility."
   ]
  },
  {
   "cell_type": "markdown",
   "metadata": {},
   "source": [
    "![Fig09.jpg](../paper-pics/Fig09.jpg)\n",
    "\n",
    "Figure is prepared with [08-Plotting-Vertical-Profiles.ipynb](08-Plotting-Vertical-Profiles.ipynb).\n",
    "\n",
    "\n",
    "The resulting single images have been combined with\n",
    "```bash\n",
    "montage -tile 2x2 -trim -geometry +200+200 profile_heating.png profile_tpot.png profile_RH.png profile_CC.png profiles_combined.png\n",
    "```\n"
   ]
  },
  {
   "cell_type": "markdown",
   "metadata": {},
   "source": [
    "***"
   ]
  },
  {
   "cell_type": "markdown",
   "metadata": {},
   "source": [
    "## Fig 10\n",
    "\n",
    "Figure 10: Cirrus effects on radiation and energetic constrains for precipitation changes."
   ]
  },
  {
   "cell_type": "markdown",
   "metadata": {},
   "source": [
    "![Fig10.jpg](../paper-pics/Fig10.jpg)\n",
    "\n",
    "Figure is prepared with ??.\n"
   ]
  },
  {
   "cell_type": "markdown",
   "metadata": {},
   "source": [
    "***"
   ]
  },
  {
   "cell_type": "markdown",
   "metadata": {},
   "source": [
    "## Fig 11\n",
    "\n",
    "Figure 11: Globally and monthly average perturbations of (a) surface evaporation fluxes, (b) convective precipitation, (c) large-scale precipitation, (d) total column water vapor $Q_v$, (e) liquid water path $Q_c$, and (f) ice water path $Q_i$ as function of time. All perturbations are computed relative to the FIRE0 run as reference and presented in $\\%$. Colors from blue to red indicated perturbation resulting from fire perturbation runs FIRE1, FIRE2, FIRE3 and FIRE5. Bright colors indicate data from ensemble simulations, whereas light colors represent nudged data shown side-by-side for the respective runs."
   ]
  },
  {
   "cell_type": "markdown",
   "metadata": {},
   "source": [
    "![Fig11.jpg](../paper-pics/Fig11.jpg)\n",
    "\n",
    "derived from [06-Plot-HydroVars.ipynb](06-Plot-HydroVars.ipynb).\n",
    "***"
   ]
  }
 ],
 "metadata": {
  "kernelspec": {
   "display_name": "Python 3 (based on the module python3/2022.01)",
   "language": "python",
   "name": "python3_2022_01"
  },
  "language_info": {
   "codemirror_mode": {
    "name": "ipython",
    "version": 3
   },
   "file_extension": ".py",
   "mimetype": "text/x-python",
   "name": "python",
   "nbconvert_exporter": "python",
   "pygments_lexer": "ipython3",
   "version": "3.9.9"
  }
 },
 "nbformat": 4,
 "nbformat_minor": 4
}
